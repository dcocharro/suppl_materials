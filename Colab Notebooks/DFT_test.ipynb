{
 "cells": [
  {
   "cell_type": "code",
   "execution_count": null,
   "metadata": {
    "colab": {
     "base_uri": "https://localhost:8080/"
    },
    "executionInfo": {
     "elapsed": 26,
     "status": "ok",
     "timestamp": 1741592221627,
     "user": {
      "displayName": "Diogo Cocharro",
      "userId": "01975078127925369002"
     },
     "user_tz": 0
    },
    "id": "q6Ghq7Aqg-AZ",
    "outputId": "ba83763f-0d4d-4f67-b214-57d49e895a7b"
   },
   "outputs": [
    {
     "name": "stdout",
     "output_type": "stream",
     "text": [
      "Real part: [0. 2. 0. 2.]\n",
      "Imaginary part: [ 0.  0. -0.  0.]\n",
      "Magnitude: [0. 2. 0. 2.]\n",
      "Phase: [ 0.     0.    -1.571  0.   ]\n"
     ]
    }
   ],
   "source": [
    "# Compute the DFT of the following array: [1, 0, 2, 0, 3, 0, 4, 0]. Please provide real, imaginary, magnitude and phase values of the DFT results.\n",
    "\n",
    "import numpy as np\n",
    "\n",
    "def compute_dft(x):\n",
    "  \"\"\"Computes the Discrete Fourier Transform (DFT) of a 1D array.\n",
    "\n",
    "  Args:\n",
    "    x: A 1D numpy array of numbers.\n",
    "\n",
    "  Returns:\n",
    "    A tuple containing four numpy arrays: real, imaginary, magnitude, and phase of DFT results.\n",
    "  \"\"\"\n",
    "  N = len(x)\n",
    "  n = np.arange(N)\n",
    "  k = n.reshape((N, 1))\n",
    "  e = np.exp(-2j * np.pi * k * n / N)\n",
    "  X = np.dot(e, x)\n",
    "  real = np.real(X)\n",
    "  imaginary = np.imag(X)\n",
    "  magnitude = np.abs(X)\n",
    "  phase = np.angle(X)\n",
    "  return real, imaginary, magnitude, phase\n",
    "\n",
    "\n",
    "# Input array\n",
    "#x = np.array([1, 0, 2, 0, 3, 0, 4, 0])\n",
    "x = np.array([1, 0, -1, 0])\n",
    "\n",
    "# Compute the DFT\n",
    "real, imaginary, magnitude, phase = compute_dft(x)\n",
    "\n",
    "# Round the results to 6 decimal places\n",
    "real = np.round(real, 3)\n",
    "imaginary = np.round(imaginary, 3)\n",
    "magnitude = np.round(magnitude, 3)\n",
    "phase = np.round(phase, 3)\n",
    "\n",
    "# Print the results\n",
    "print(\"Real part:\", real)\n",
    "print(\"Imaginary part:\", imaginary)\n",
    "print(\"Magnitude:\", magnitude)\n",
    "print(\"Phase:\", phase)\n"
   ]
  },
  {
   "cell_type": "code",
   "execution_count": 3,
   "metadata": {
    "colab": {
     "base_uri": "https://localhost:8080/"
    },
    "executionInfo": {
     "elapsed": 18,
     "status": "ok",
     "timestamp": 1741592224267,
     "user": {
      "displayName": "Diogo Cocharro",
      "userId": "01975078127925369002"
     },
     "user_tz": 0
    },
    "id": "IVhXeMqa-3uA",
    "outputId": "8ea68d50-8073-4b4d-a9b6-c6a127386d37"
   },
   "outputs": [
    {
     "name": "stdout",
     "output_type": "stream",
     "text": [
      "Real part: [0. 2. 0. 2.]\n",
      "Imaginary part: [0. 0. 0. 0.]\n",
      "Magnitude: [0. 2. 0. 2.]\n",
      "Phase: [0. 0. 0. 0.]\n"
     ]
    }
   ],
   "source": [
    "import numpy as np\n",
    "\n",
    "# Input array\n",
    "x = np.array([1, 0, -1, 0])\n",
    "\n",
    "# Compute the FFT\n",
    "X = np.fft.fft(x)\n",
    "\n",
    "# Extract real and imaginary parts\n",
    "real = np.real(X)\n",
    "imaginary = np.imag(X)\n",
    "\n",
    "# Calculate magnitude and phase\n",
    "magnitude = np.abs(X)\n",
    "phase = np.angle(X)\n",
    "\n",
    "# Print the results\n",
    "print(\"Real part:\", real)\n",
    "print(\"Imaginary part:\", imaginary)\n",
    "print(\"Magnitude:\", magnitude)\n",
    "print(\"Phase:\", phase)"
   ]
  }
 ],
 "metadata": {
  "colab": {
   "authorship_tag": "ABX9TyOpn8fETj1eRUn468Bf9wyA",
   "provenance": []
  },
  "kernelspec": {
   "display_name": "Python 3",
   "name": "python3"
  },
  "language_info": {
   "name": "python"
  }
 },
 "nbformat": 4,
 "nbformat_minor": 0
}
